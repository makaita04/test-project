{
  "cells": [
    {
      "cell_type": "markdown",
      "metadata": {
        "id": "view-in-github",
        "colab_type": "text"
      },
      "source": [
        "<a href=\"https://colab.research.google.com/github/makaita04/test-project/blob/main/Lab_4_Numpy.ipynb\" target=\"_parent\"><img src=\"https://colab.research.google.com/assets/colab-badge.svg\" alt=\"Open In Colab\"/></a>"
      ]
    },
    {
      "cell_type": "markdown",
      "metadata": {
        "id": "tfigFGhp_JFz"
      },
      "source": [
        "# Imports\n",
        "- Import numpy module with the alias np on the code cell below"
      ]
    },
    {
      "cell_type": "code",
      "execution_count": 4,
      "metadata": {
        "id": "QyxfQ0bR_JF9"
      },
      "outputs": [],
      "source": [
        "import numpy as np"
      ]
    },
    {
      "cell_type": "markdown",
      "metadata": {
        "id": "nX-HsiRR_JF-"
      },
      "source": [
        "# Question 1"
      ]
    },
    {
      "cell_type": "code",
      "execution_count": 5,
      "metadata": {
        "id": "NJpCVaTc_JF_"
      },
      "outputs": [],
      "source": [
        "a2 = np.array([[9,8,7],\n",
        "              [6,5,4],\n",
        "              [3,2,1],\n",
        "              [11,12,13],\n",
        "              [14,15,16]])\n",
        "\n",
        "\n",
        "a3 = np.array([[[1,2,3,4],\n",
        "                [5,6,7,8],\n",
        "                [10,11,12,13]],\n",
        "\n",
        "              [[15,16,17,18],\n",
        "              [19,20,21,22],\n",
        "              [23,24,25,26]]])"
      ]
    },
    {
      "cell_type": "markdown",
      "metadata": {
        "id": "t4Y-Gnux_JGB"
      },
      "source": [
        "a) Run the code cell above and find the length of arrays `a2` and `a3`"
      ]
    },
    {
      "cell_type": "code",
      "execution_count": 8,
      "metadata": {
        "id": "cEWz3Gqo_JGB",
        "outputId": "eeda440a-7acb-4ae7-e8cd-6a34369bf17d",
        "colab": {
          "base_uri": "https://localhost:8080/"
        }
      },
      "outputs": [
        {
          "output_type": "execute_result",
          "data": {
            "text/plain": [
              "5"
            ]
          },
          "metadata": {},
          "execution_count": 8
        }
      ],
      "source": [
        "len(a2)\n"
      ]
    },
    {
      "cell_type": "code",
      "source": [
        "len(a3)"
      ],
      "metadata": {
        "id": "ZtiUGbIgHsYm",
        "outputId": "a341cf64-1397-4ec4-ce6c-fb74efec70a2",
        "colab": {
          "base_uri": "https://localhost:8080/"
        }
      },
      "execution_count": 9,
      "outputs": [
        {
          "output_type": "execute_result",
          "data": {
            "text/plain": [
              "2"
            ]
          },
          "metadata": {},
          "execution_count": 9
        }
      ]
    },
    {
      "cell_type": "markdown",
      "metadata": {
        "id": "DEmoHQW4_JGC"
      },
      "source": [
        "b) Find the shape of arrays `a2` and `a3`"
      ]
    },
    {
      "cell_type": "code",
      "execution_count": 10,
      "metadata": {
        "id": "1T7pqB13_JGD",
        "outputId": "3ef8d7eb-53c7-41d6-b594-c37f34e6ef6e",
        "colab": {
          "base_uri": "https://localhost:8080/"
        }
      },
      "outputs": [
        {
          "output_type": "execute_result",
          "data": {
            "text/plain": [
              "(5, 3)"
            ]
          },
          "metadata": {},
          "execution_count": 10
        }
      ],
      "source": [
        "a2.shape"
      ]
    },
    {
      "cell_type": "code",
      "source": [
        "a3.shape"
      ],
      "metadata": {
        "id": "pKEKL2plH1_a",
        "outputId": "06cec23c-1f19-4c51-92ad-a5f925097f28",
        "colab": {
          "base_uri": "https://localhost:8080/"
        }
      },
      "execution_count": 11,
      "outputs": [
        {
          "output_type": "execute_result",
          "data": {
            "text/plain": [
              "(2, 3, 4)"
            ]
          },
          "metadata": {},
          "execution_count": 11
        }
      ]
    },
    {
      "cell_type": "markdown",
      "metadata": {
        "id": "NvjiOjz7_JGG"
      },
      "source": [
        "c) Write code which prints out the following numbers in array `a2`:\n",
        "> 1. 8\n",
        "2. 3\n",
        "3. 12\n",
        "4. 16"
      ]
    },
    {
      "cell_type": "code",
      "execution_count": 12,
      "metadata": {
        "id": "D0ASUn5i_JGH",
        "outputId": "470a91da-8392-4d6a-ec26-516e013cc367",
        "colab": {
          "base_uri": "https://localhost:8080/"
        }
      },
      "outputs": [
        {
          "output_type": "execute_result",
          "data": {
            "text/plain": [
              "array([ 8,  3, 12, 16])"
            ]
          },
          "metadata": {},
          "execution_count": 12
        }
      ],
      "source": [
        "a2=np.array([8,3,12,16])\n",
        "a2"
      ]
    },
    {
      "cell_type": "code",
      "execution_count": null,
      "metadata": {
        "id": "jE7GPKD2_JGH"
      },
      "outputs": [],
      "source": []
    },
    {
      "cell_type": "code",
      "execution_count": null,
      "metadata": {
        "id": "S3DR1EpE_JGI"
      },
      "outputs": [],
      "source": []
    },
    {
      "cell_type": "markdown",
      "metadata": {
        "id": "ZIQkJFRL_JGI"
      },
      "source": [
        "d) Write code which prints out the following numbers in array `a3`:\n",
        "> 1. 3\n",
        "2. 5\n",
        "3. 12\n",
        "4. 16\n",
        "5. 22\n",
        "6. 23"
      ]
    },
    {
      "cell_type": "code",
      "execution_count": 14,
      "metadata": {
        "id": "twK-rF9w_JGJ",
        "outputId": "692557e3-44a6-47c8-adf5-081d193deebf",
        "colab": {
          "base_uri": "https://localhost:8080/"
        }
      },
      "outputs": [
        {
          "output_type": "execute_result",
          "data": {
            "text/plain": [
              "array([ 3,  5, 12, 16, 22, 23])"
            ]
          },
          "metadata": {},
          "execution_count": 14
        }
      ],
      "source": [
        "a3=np.array([3,5,12,16,22,23])\n",
        "a3"
      ]
    },
    {
      "cell_type": "code",
      "execution_count": null,
      "metadata": {
        "id": "eoQIX6ip_JGK"
      },
      "outputs": [],
      "source": []
    },
    {
      "cell_type": "code",
      "execution_count": null,
      "metadata": {
        "id": "DipjPgc-_JGL"
      },
      "outputs": [],
      "source": []
    },
    {
      "cell_type": "code",
      "execution_count": null,
      "metadata": {
        "id": "xjOIC2It_JGL"
      },
      "outputs": [],
      "source": []
    },
    {
      "cell_type": "code",
      "execution_count": null,
      "metadata": {
        "id": "YOAIV8Up_JGM"
      },
      "outputs": [],
      "source": []
    },
    {
      "cell_type": "code",
      "execution_count": null,
      "metadata": {
        "id": "Go8wcYcz_JGN"
      },
      "outputs": [],
      "source": []
    },
    {
      "cell_type": "markdown",
      "metadata": {
        "id": "pJB6FDPj_JGN"
      },
      "source": [
        "e) Change the shape of `a3` to the following shapes:\n",
        "> 1. (6,4)\n",
        "2. (2,1,2,3,2)\n",
        "3. (4,3,2)"
      ]
    },
    {
      "cell_type": "code",
      "source": [
        "a3.reshape((4,3,2))"
      ],
      "metadata": {
        "id": "avkStW-LJirz",
        "outputId": "beac3d88-8b38-4c93-a95a-cbb031273c31",
        "colab": {
          "base_uri": "https://localhost:8080/",
          "height": 161
        }
      },
      "execution_count": 25,
      "outputs": [
        {
          "output_type": "error",
          "ename": "ValueError",
          "evalue": "cannot reshape array of size 6 into shape (4,3,2)",
          "traceback": [
            "\u001b[0;31m---------------------------------------------------------------------------\u001b[0m",
            "\u001b[0;31mValueError\u001b[0m                                Traceback (most recent call last)",
            "\u001b[0;32m<ipython-input-25-913fce9f2fae>\u001b[0m in \u001b[0;36m<cell line: 1>\u001b[0;34m()\u001b[0m\n\u001b[0;32m----> 1\u001b[0;31m \u001b[0ma3\u001b[0m\u001b[0;34m.\u001b[0m\u001b[0mreshape\u001b[0m\u001b[0;34m(\u001b[0m\u001b[0;34m(\u001b[0m\u001b[0;36m4\u001b[0m\u001b[0;34m,\u001b[0m\u001b[0;36m3\u001b[0m\u001b[0;34m,\u001b[0m\u001b[0;36m2\u001b[0m\u001b[0;34m)\u001b[0m\u001b[0;34m)\u001b[0m\u001b[0;34m\u001b[0m\u001b[0;34m\u001b[0m\u001b[0m\n\u001b[0m",
            "\u001b[0;31mValueError\u001b[0m: cannot reshape array of size 6 into shape (4,3,2)"
          ]
        }
      ]
    },
    {
      "cell_type": "code",
      "source": [
        "a3.reshape((2,1,2,3,2))"
      ],
      "metadata": {
        "id": "ZXsDE3pwJcBf",
        "outputId": "e2f64720-523c-473d-99d6-2318ba09f457",
        "colab": {
          "base_uri": "https://localhost:8080/",
          "height": 161
        }
      },
      "execution_count": 24,
      "outputs": [
        {
          "output_type": "error",
          "ename": "ValueError",
          "evalue": "cannot reshape array of size 6 into shape (2,1,2,3,2)",
          "traceback": [
            "\u001b[0;31m---------------------------------------------------------------------------\u001b[0m",
            "\u001b[0;31mValueError\u001b[0m                                Traceback (most recent call last)",
            "\u001b[0;32m<ipython-input-24-e2d8d2164a1f>\u001b[0m in \u001b[0;36m<cell line: 1>\u001b[0;34m()\u001b[0m\n\u001b[0;32m----> 1\u001b[0;31m \u001b[0ma3\u001b[0m\u001b[0;34m.\u001b[0m\u001b[0mreshape\u001b[0m\u001b[0;34m(\u001b[0m\u001b[0;34m(\u001b[0m\u001b[0;36m2\u001b[0m\u001b[0;34m,\u001b[0m\u001b[0;36m1\u001b[0m\u001b[0;34m,\u001b[0m\u001b[0;36m2\u001b[0m\u001b[0;34m,\u001b[0m\u001b[0;36m3\u001b[0m\u001b[0;34m,\u001b[0m\u001b[0;36m2\u001b[0m\u001b[0;34m)\u001b[0m\u001b[0;34m)\u001b[0m\u001b[0;34m\u001b[0m\u001b[0;34m\u001b[0m\u001b[0m\n\u001b[0m",
            "\u001b[0;31mValueError\u001b[0m: cannot reshape array of size 6 into shape (2,1,2,3,2)"
          ]
        }
      ]
    },
    {
      "cell_type": "code",
      "execution_count": 23,
      "metadata": {
        "id": "WOQe0MAt_JGO",
        "outputId": "674aba95-8e60-4ffa-a8c0-8192a5a95bad",
        "colab": {
          "base_uri": "https://localhost:8080/",
          "height": 179
        }
      },
      "outputs": [
        {
          "output_type": "error",
          "ename": "ValueError",
          "evalue": "cannot reshape array of size 6 into shape (6,4)",
          "traceback": [
            "\u001b[0;31m---------------------------------------------------------------------------\u001b[0m",
            "\u001b[0;31mValueError\u001b[0m                                Traceback (most recent call last)",
            "\u001b[0;32m<ipython-input-23-0229897a0018>\u001b[0m in \u001b[0;36m<cell line: 1>\u001b[0;34m()\u001b[0m\n\u001b[0;32m----> 1\u001b[0;31m \u001b[0ma3\u001b[0m\u001b[0;34m.\u001b[0m\u001b[0mreshape\u001b[0m\u001b[0;34m(\u001b[0m\u001b[0;34m(\u001b[0m\u001b[0;36m6\u001b[0m\u001b[0;34m,\u001b[0m\u001b[0;36m4\u001b[0m\u001b[0;34m)\u001b[0m\u001b[0;34m)\u001b[0m\u001b[0;34m\u001b[0m\u001b[0;34m\u001b[0m\u001b[0m\n\u001b[0m\u001b[1;32m      2\u001b[0m \u001b[0;34m\u001b[0m\u001b[0m\n",
            "\u001b[0;31mValueError\u001b[0m: cannot reshape array of size 6 into shape (6,4)"
          ]
        }
      ],
      "source": [
        " a3.reshape((6,4))\n",
        ""
      ]
    },
    {
      "cell_type": "markdown",
      "metadata": {
        "id": "IeXmmj1H_JGO"
      },
      "source": [
        "# Question 2"
      ]
    },
    {
      "cell_type": "code",
      "source": [],
      "metadata": {
        "id": "E1Z6oeXmJa3F"
      },
      "execution_count": null,
      "outputs": []
    },
    {
      "cell_type": "markdown",
      "metadata": {
        "id": "2ePnHMJyb_Wz"
      },
      "source": [
        "a) Create a 2 by 2 array with elements generated at random from a normal distribution `N(20,2)`. Store the array on a variable called `a`"
      ]
    },
    {
      "cell_type": "code",
      "execution_count": 31,
      "metadata": {
        "id": "8KxJcCBfbbf5",
        "outputId": "595063d1-1135-4580-86a3-25b7d7abc0c2",
        "colab": {
          "base_uri": "https://localhost:8080/"
        }
      },
      "outputs": [
        {
          "output_type": "execute_result",
          "data": {
            "text/plain": [
              "array([[19.52412851, 18.28941212],\n",
              "       [17.95501172, 19.5539437 ]])"
            ]
          },
          "metadata": {},
          "execution_count": 31
        }
      ],
      "source": [
        "\n",
        "a=np.random.normal(20,2,size=(2,2))\n",
        "a\n",
        "\n",
        "\n",
        "\n"
      ]
    },
    {
      "cell_type": "markdown",
      "metadata": {
        "id": "ao9twI0i_JGQ"
      },
      "source": [
        "b) Create a 2 by 2 array with elements generated at random from a uniform distibution `U(37,40)`. Store the array on a variable named `b`"
      ]
    },
    {
      "cell_type": "code",
      "execution_count": 32,
      "metadata": {
        "id": "WXcU2lbd_JGR",
        "outputId": "fcc9ecdd-0b3e-4b7e-e1e8-e5f8f828b235",
        "colab": {
          "base_uri": "https://localhost:8080/"
        }
      },
      "outputs": [
        {
          "output_type": "execute_result",
          "data": {
            "text/plain": [
              "array([[37.15903186, 37.37684043],\n",
              "       [38.81804878, 39.05063606]])"
            ]
          },
          "metadata": {},
          "execution_count": 32
        }
      ],
      "source": [
        "b=np.random.uniform(37,40,size=(2,2))\n",
        "b"
      ]
    },
    {
      "cell_type": "markdown",
      "metadata": {
        "id": "xIaITT56_JGR"
      },
      "source": [
        "c) Perfom element wise multiplication of the two arrays and store the answer on a variable named `element_wise_prod`."
      ]
    },
    {
      "cell_type": "code",
      "execution_count": 33,
      "metadata": {
        "id": "VcA4ciP8_JGR",
        "outputId": "38154de6-67dc-4de5-8a27-082e1133ddad",
        "colab": {
          "base_uri": "https://localhost:8080/"
        }
      },
      "outputs": [
        {
          "output_type": "execute_result",
          "data": {
            "text/plain": [
              "array([[725.49771332, 683.60043841],\n",
              "       [696.97852055, 763.59393874]])"
            ]
          },
          "metadata": {},
          "execution_count": 33
        }
      ],
      "source": [
        "element_wise_prod=a*b\n",
        "element_wise_prod"
      ]
    },
    {
      "cell_type": "markdown",
      "metadata": {
        "id": "2JQ4Wxay_JGS"
      },
      "source": [
        "d) Perfom matrix multiplication and store the results on a variable called `matrix_multiplication`."
      ]
    },
    {
      "cell_type": "code",
      "execution_count": 34,
      "metadata": {
        "id": "eyNCWprH_JGS",
        "outputId": "eda43a18-d190-42d2-9f7e-facf6078a2df",
        "colab": {
          "base_uri": "https://localhost:8080/"
        }
      },
      "outputs": [
        {
          "output_type": "execute_result",
          "data": {
            "text/plain": [
              "array([[1435.45700508, 1443.96341229],\n",
              "       [1426.23679251, 1434.69554658]])"
            ]
          },
          "metadata": {},
          "execution_count": 34
        }
      ],
      "source": [
        "matrix_multiplication = a@b\n",
        "matrix_multiplication"
      ]
    },
    {
      "cell_type": "markdown",
      "metadata": {
        "id": "lv3kxtsr_JGS"
      },
      "source": [
        "e) Find the maximum number in element_wise_prod and matrix_multiplication"
      ]
    },
    {
      "cell_type": "code",
      "execution_count": 35,
      "metadata": {
        "id": "d5LWx8Vj_JGS",
        "outputId": "26deb4b7-e2a7-453f-f6c9-d74e268815eb",
        "colab": {
          "base_uri": "https://localhost:8080/"
        }
      },
      "outputs": [
        {
          "output_type": "execute_result",
          "data": {
            "text/plain": [
              "763.5939387360736"
            ]
          },
          "metadata": {},
          "execution_count": 35
        }
      ],
      "source": [
        "element_wise_prod.max()"
      ]
    },
    {
      "cell_type": "code",
      "execution_count": 36,
      "metadata": {
        "id": "vqJ5lBxH_JGT",
        "outputId": "3e47bf5d-02ae-4c3e-f514-24320e978578",
        "colab": {
          "base_uri": "https://localhost:8080/"
        }
      },
      "outputs": [
        {
          "output_type": "execute_result",
          "data": {
            "text/plain": [
              "1443.9634122900288"
            ]
          },
          "metadata": {},
          "execution_count": 36
        }
      ],
      "source": [
        "matrix_multiplication.max()"
      ]
    },
    {
      "cell_type": "markdown",
      "metadata": {
        "id": "5WVRO3ng_JGT"
      },
      "source": [
        "f) Find the index positions of the answers you obtained in the question above"
      ]
    },
    {
      "cell_type": "code",
      "execution_count": 41,
      "metadata": {
        "id": "pakloT-s_JGT",
        "outputId": "d485487a-b5b3-4058-fed9-44d732b748cc",
        "colab": {
          "base_uri": "https://localhost:8080/"
        }
      },
      "outputs": [
        {
          "output_type": "execute_result",
          "data": {
            "text/plain": [
              "763.5939387360736"
            ]
          },
          "metadata": {},
          "execution_count": 41
        }
      ],
      "source": [
        "element_wise_prod[1,1]"
      ]
    },
    {
      "cell_type": "code",
      "execution_count": 42,
      "metadata": {
        "id": "KVJN0sdJ_JGT",
        "outputId": "8517e135-65e2-4110-faa7-640c85b07e5b",
        "colab": {
          "base_uri": "https://localhost:8080/"
        }
      },
      "outputs": [
        {
          "output_type": "execute_result",
          "data": {
            "text/plain": [
              "1443.9634122900288"
            ]
          },
          "metadata": {},
          "execution_count": 42
        }
      ],
      "source": [
        "matrix_multiplication[0,1]"
      ]
    },
    {
      "cell_type": "markdown",
      "metadata": {
        "id": "o9VOm7wy_JGU"
      },
      "source": [
        "h) Find the mean, max, min and median of the elements in element_wise_prod and matrix_multiplication"
      ]
    },
    {
      "cell_type": "code",
      "execution_count": 45,
      "metadata": {
        "id": "EnrfBsI-_JGU",
        "outputId": "4d1c7d17-3c1e-4712-dc1a-52b9bab372dd",
        "colab": {
          "base_uri": "https://localhost:8080/"
        }
      },
      "outputs": [
        {
          "output_type": "execute_result",
          "data": {
            "text/plain": [
              "717.4176527528567"
            ]
          },
          "metadata": {},
          "execution_count": 45
        }
      ],
      "source": [
        "element_wise_prod.mean()"
      ]
    },
    {
      "cell_type": "code",
      "execution_count": 46,
      "metadata": {
        "id": "4C9j7w1c_JGU",
        "outputId": "7b1f2abf-2ee5-4d8e-e5fd-f37900a9d958",
        "colab": {
          "base_uri": "https://localhost:8080/"
        }
      },
      "outputs": [
        {
          "output_type": "execute_result",
          "data": {
            "text/plain": [
              "1435.0881891151455"
            ]
          },
          "metadata": {},
          "execution_count": 46
        }
      ],
      "source": [
        "matrix_multiplication.mean()"
      ]
    },
    {
      "cell_type": "code",
      "execution_count": 47,
      "metadata": {
        "id": "XMxa_9_x_JGV",
        "outputId": "0bf3dcea-67d7-4d2a-f8d0-825be51b834f",
        "colab": {
          "base_uri": "https://localhost:8080/"
        }
      },
      "outputs": [
        {
          "output_type": "execute_result",
          "data": {
            "text/plain": [
              "763.5939387360736"
            ]
          },
          "metadata": {},
          "execution_count": 47
        }
      ],
      "source": [
        "element_wise_prod.max()"
      ]
    },
    {
      "cell_type": "code",
      "execution_count": 48,
      "metadata": {
        "id": "paz3jRhB_JGV",
        "outputId": "f83d8785-cff1-476f-f048-e395d11f52fd",
        "colab": {
          "base_uri": "https://localhost:8080/"
        }
      },
      "outputs": [
        {
          "output_type": "execute_result",
          "data": {
            "text/plain": [
              "1443.9634122900288"
            ]
          },
          "metadata": {},
          "execution_count": 48
        }
      ],
      "source": [
        "matrix_multiplication.max()"
      ]
    },
    {
      "cell_type": "code",
      "source": [
        "element_wise_prod.min()"
      ],
      "metadata": {
        "id": "z422_iLqOAgk",
        "outputId": "5609c62d-51ce-4476-9a8d-b43aa8493611",
        "colab": {
          "base_uri": "https://localhost:8080/"
        }
      },
      "execution_count": 50,
      "outputs": [
        {
          "output_type": "execute_result",
          "data": {
            "text/plain": [
              "683.600438406102"
            ]
          },
          "metadata": {},
          "execution_count": 50
        }
      ]
    },
    {
      "cell_type": "code",
      "source": [
        "matrix_multiplication.min()"
      ],
      "metadata": {
        "id": "WvBgHWzMOPgp",
        "outputId": "9588925f-6606-475d-e8bc-8c3867190394",
        "colab": {
          "base_uri": "https://localhost:8080/"
        }
      },
      "execution_count": 51,
      "outputs": [
        {
          "output_type": "execute_result",
          "data": {
            "text/plain": [
              "1426.2367925058095"
            ]
          },
          "metadata": {},
          "execution_count": 51
        }
      ]
    },
    {
      "cell_type": "code",
      "source": [
        "element_wise=np.median(element_wise_prod)\n",
        "element_wise"
      ],
      "metadata": {
        "id": "PGK4ohxePnrX",
        "outputId": "753be515-5e62-46ac-e32c-90a848bf024b",
        "colab": {
          "base_uri": "https://localhost:8080/"
        }
      },
      "execution_count": 107,
      "outputs": [
        {
          "output_type": "execute_result",
          "data": {
            "text/plain": [
              "711.2381169346256"
            ]
          },
          "metadata": {},
          "execution_count": 107
        }
      ]
    },
    {
      "cell_type": "code",
      "source": [
        "matrix_multiplication=np.median(matrix_multiplication)\n",
        "matrix_multiplication"
      ],
      "metadata": {
        "id": "09CwiStBP-Gd",
        "outputId": "5ca01be8-9049-416e-9590-3026c6741768",
        "colab": {
          "base_uri": "https://localhost:8080/"
        }
      },
      "execution_count": 108,
      "outputs": [
        {
          "output_type": "execute_result",
          "data": {
            "text/plain": [
              "1435.0881891151453"
            ]
          },
          "metadata": {},
          "execution_count": 108
        }
      ]
    },
    {
      "cell_type": "markdown",
      "metadata": {
        "id": "cx3Vu3tp_JGV"
      },
      "source": [
        "i) Find the mean, max, min and median along the first axis and second axis of element_wise and matrix_multiplication"
      ]
    },
    {
      "cell_type": "code",
      "execution_count": 56,
      "metadata": {
        "id": "vvH7sLac_JGW",
        "colab": {
          "base_uri": "https://localhost:8080/"
        },
        "outputId": "03a57ebb-5104-4a5d-ae9f-34a705cb7a4e"
      },
      "outputs": [
        {
          "output_type": "execute_result",
          "data": {
            "text/plain": [
              "array([711.23811693, 723.59718857])"
            ]
          },
          "metadata": {},
          "execution_count": 56
        }
      ],
      "source": [
        "element_wise_prod.mean(axis=0)"
      ]
    },
    {
      "cell_type": "code",
      "execution_count": 54,
      "metadata": {
        "outputId": "ae2815be-ad36-40d0-c808-1a3d623d0dbf",
        "colab": {
          "base_uri": "https://localhost:8080/"
        },
        "id": "Sd8P5kNcPFwQ"
      },
      "outputs": [
        {
          "output_type": "execute_result",
          "data": {
            "text/plain": [
              "array([704.54907586, 730.28622964])"
            ]
          },
          "metadata": {},
          "execution_count": 54
        }
      ],
      "source": [
        "element_wise_prod.mean(axis=1)"
      ]
    },
    {
      "cell_type": "code",
      "execution_count": 53,
      "metadata": {
        "id": "3fffnHtk_JGW",
        "colab": {
          "base_uri": "https://localhost:8080/"
        },
        "outputId": "76019c79-049a-4f63-a22d-2058a8308770"
      },
      "outputs": [
        {
          "output_type": "execute_result",
          "data": {
            "text/plain": [
              "array([1430.84689879, 1439.32947944])"
            ]
          },
          "metadata": {},
          "execution_count": 53
        }
      ],
      "source": [
        "matrix_multiplication.mean(axis=0)"
      ]
    },
    {
      "cell_type": "code",
      "execution_count": null,
      "metadata": {
        "outputId": "76019c79-049a-4f63-a22d-2058a8308770",
        "colab": {
          "base_uri": "https://localhost:8080/"
        },
        "id": "bQmLL0BdPSzD"
      },
      "outputs": [
        {
          "output_type": "execute_result",
          "data": {
            "text/plain": [
              "array([1430.84689879, 1439.32947944])"
            ]
          },
          "metadata": {},
          "execution_count": 53
        }
      ],
      "source": [
        "matrix_multiplication.mean(axis=1)"
      ]
    },
    {
      "cell_type": "code",
      "execution_count": 59,
      "metadata": {
        "id": "vX0Il4D5_JGW",
        "outputId": "8ec6682c-4da9-4094-f289-fdb361f70e4c",
        "colab": {
          "base_uri": "https://localhost:8080/"
        }
      },
      "outputs": [
        {
          "output_type": "execute_result",
          "data": {
            "text/plain": [
              "array([725.49771332, 763.59393874])"
            ]
          },
          "metadata": {},
          "execution_count": 59
        }
      ],
      "source": [
        "element_wise_prod.max(axis=0)"
      ]
    },
    {
      "cell_type": "code",
      "execution_count": 60,
      "metadata": {
        "id": "fbTZ70LA_JGW",
        "outputId": "04d5519e-1f84-4ce8-d0d4-36ec11119e16",
        "colab": {
          "base_uri": "https://localhost:8080/"
        }
      },
      "outputs": [
        {
          "output_type": "execute_result",
          "data": {
            "text/plain": [
              "array([1435.45700508, 1443.96341229])"
            ]
          },
          "metadata": {},
          "execution_count": 60
        }
      ],
      "source": [
        "matrix_multiplication.max(axis=0)"
      ]
    },
    {
      "cell_type": "code",
      "execution_count": 61,
      "metadata": {
        "id": "i_p5PaTZ_JGX",
        "outputId": "ba84d16b-5d5e-4c82-d5da-c323db7b4489",
        "colab": {
          "base_uri": "https://localhost:8080/"
        }
      },
      "outputs": [
        {
          "output_type": "execute_result",
          "data": {
            "text/plain": [
              "array([725.49771332, 763.59393874])"
            ]
          },
          "metadata": {},
          "execution_count": 61
        }
      ],
      "source": [
        "element_wise_prod.max(axis=1)"
      ]
    },
    {
      "cell_type": "code",
      "execution_count": 62,
      "metadata": {
        "id": "VGqmuRxJ_JGX",
        "outputId": "d84fb47b-f654-417b-8ad6-bcb68c49908c",
        "colab": {
          "base_uri": "https://localhost:8080/"
        }
      },
      "outputs": [
        {
          "output_type": "execute_result",
          "data": {
            "text/plain": [
              "array([1443.96341229, 1434.69554658])"
            ]
          },
          "metadata": {},
          "execution_count": 62
        }
      ],
      "source": [
        "matrix_multiplication.max(axis=1)"
      ]
    },
    {
      "cell_type": "code",
      "execution_count": 63,
      "metadata": {
        "id": "F9evdWQL_JGX",
        "outputId": "3c08caae-f4b3-48d1-f945-cbcfd6d44825",
        "colab": {
          "base_uri": "https://localhost:8080/"
        }
      },
      "outputs": [
        {
          "output_type": "execute_result",
          "data": {
            "text/plain": [
              "array([696.97852055, 683.60043841])"
            ]
          },
          "metadata": {},
          "execution_count": 63
        }
      ],
      "source": [
        "element_wise_prod.min(axis=0)"
      ]
    },
    {
      "cell_type": "code",
      "source": [
        "matrix_multiplication.min(axis=0)"
      ],
      "metadata": {
        "id": "iu3mr1KgRNr_",
        "outputId": "1d40ef5d-6feb-4a7e-b604-86ade8842fff",
        "colab": {
          "base_uri": "https://localhost:8080/"
        }
      },
      "execution_count": 64,
      "outputs": [
        {
          "output_type": "execute_result",
          "data": {
            "text/plain": [
              "array([1426.23679251, 1434.69554658])"
            ]
          },
          "metadata": {},
          "execution_count": 64
        }
      ]
    },
    {
      "cell_type": "code",
      "source": [
        "element_wise_prod.min(axis=1)"
      ],
      "metadata": {
        "id": "9lr7G-64RzZv",
        "outputId": "8c71a943-cee0-4235-d8af-62c41680df65",
        "colab": {
          "base_uri": "https://localhost:8080/"
        }
      },
      "execution_count": 65,
      "outputs": [
        {
          "output_type": "execute_result",
          "data": {
            "text/plain": [
              "array([683.60043841, 696.97852055])"
            ]
          },
          "metadata": {},
          "execution_count": 65
        }
      ]
    },
    {
      "cell_type": "code",
      "source": [
        "matrix_multiplication.min(axis=1)"
      ],
      "metadata": {
        "id": "e0OTJ7qfSKdf",
        "outputId": "be17508e-dd08-48a3-fea5-440928872eed",
        "colab": {
          "base_uri": "https://localhost:8080/"
        }
      },
      "execution_count": 66,
      "outputs": [
        {
          "output_type": "execute_result",
          "data": {
            "text/plain": [
              "array([1435.45700508, 1426.23679251])"
            ]
          },
          "metadata": {},
          "execution_count": 66
        }
      ]
    },
    {
      "cell_type": "code",
      "source": [
        "element_wise=np.median(element_wise_prod,axis=0)\n",
        "element_wise_prod\n"
      ],
      "metadata": {
        "id": "6I7w2QKtSWmQ",
        "outputId": "5a72cf37-3af9-4d3f-e483-cf5f1356ffda",
        "colab": {
          "base_uri": "https://localhost:8080/"
        }
      },
      "execution_count": 101,
      "outputs": [
        {
          "output_type": "execute_result",
          "data": {
            "text/plain": [
              "array([[725.49771332, 683.60043841],\n",
              "       [696.97852055, 763.59393874]])"
            ]
          },
          "metadata": {},
          "execution_count": 101
        }
      ]
    },
    {
      "cell_type": "code",
      "source": [
        "element_wise = np.median(element_wise_prod,axis=1)\n",
        "element_wise"
      ],
      "metadata": {
        "id": "U3GnW1J4SsGo",
        "outputId": "760e128b-1e69-4645-f932-7cc7a7923cca",
        "colab": {
          "base_uri": "https://localhost:8080/"
        }
      },
      "execution_count": 97,
      "outputs": [
        {
          "output_type": "execute_result",
          "data": {
            "text/plain": [
              "array([704.54907586, 730.28622964])"
            ]
          },
          "metadata": {},
          "execution_count": 97
        }
      ]
    },
    {
      "cell_type": "code",
      "source": [
        "matrix_multiplication=np.median(matrix_multiplication,axis=0)\n",
        "matrix_multiplication"
      ],
      "metadata": {
        "id": "XuZPcUCqSkTc",
        "outputId": "54d3e5a9-4c13-44d5-eab0-6879e5375912",
        "colab": {
          "base_uri": "https://localhost:8080/"
        }
      },
      "execution_count": 98,
      "outputs": [
        {
          "output_type": "execute_result",
          "data": {
            "text/plain": [
              "array([1430.84689879, 1439.32947944])"
            ]
          },
          "metadata": {},
          "execution_count": 98
        }
      ]
    },
    {
      "cell_type": "code",
      "source": [
        "matrix_multiplication=np.median(matrix_multiplication,axis=1)\n",
        "matrix_multiplication"
      ],
      "metadata": {
        "id": "I-vyM61oS5gv",
        "outputId": "86fdc9bb-32d4-4c2a-99c0-cab9b1f057ac",
        "colab": {
          "base_uri": "https://localhost:8080/",
          "height": 324
        }
      },
      "execution_count": 109,
      "outputs": [
        {
          "output_type": "error",
          "ename": "AxisError",
          "evalue": "axis 1 is out of bounds for array of dimension 0",
          "traceback": [
            "\u001b[0;31m---------------------------------------------------------------------------\u001b[0m",
            "\u001b[0;31mAxisError\u001b[0m                                 Traceback (most recent call last)",
            "\u001b[0;32m<ipython-input-109-9fc367530c40>\u001b[0m in \u001b[0;36m<cell line: 1>\u001b[0;34m()\u001b[0m\n\u001b[0;32m----> 1\u001b[0;31m \u001b[0mmatrix_multiplication\u001b[0m\u001b[0;34m=\u001b[0m\u001b[0mnp\u001b[0m\u001b[0;34m.\u001b[0m\u001b[0mmedian\u001b[0m\u001b[0;34m(\u001b[0m\u001b[0mmatrix_multiplication\u001b[0m\u001b[0;34m,\u001b[0m\u001b[0maxis\u001b[0m\u001b[0;34m=\u001b[0m\u001b[0;36m1\u001b[0m\u001b[0;34m)\u001b[0m\u001b[0;34m\u001b[0m\u001b[0;34m\u001b[0m\u001b[0m\n\u001b[0m\u001b[1;32m      2\u001b[0m \u001b[0mmatrix_multiplication\u001b[0m\u001b[0;34m\u001b[0m\u001b[0;34m\u001b[0m\u001b[0m\n",
            "\u001b[0;32m/usr/local/lib/python3.10/dist-packages/numpy/lib/function_base.py\u001b[0m in \u001b[0;36mmedian\u001b[0;34m(a, axis, out, overwrite_input, keepdims)\u001b[0m\n\u001b[1;32m   3925\u001b[0m \u001b[0;34m\u001b[0m\u001b[0m\n\u001b[1;32m   3926\u001b[0m     \"\"\"\n\u001b[0;32m-> 3927\u001b[0;31m     return _ureduce(a, func=_median, keepdims=keepdims, axis=axis, out=out,\n\u001b[0m\u001b[1;32m   3928\u001b[0m                     overwrite_input=overwrite_input)\n\u001b[1;32m   3929\u001b[0m \u001b[0;34m\u001b[0m\u001b[0m\n",
            "\u001b[0;32m/usr/local/lib/python3.10/dist-packages/numpy/lib/function_base.py\u001b[0m in \u001b[0;36m_ureduce\u001b[0;34m(a, func, keepdims, **kwargs)\u001b[0m\n\u001b[1;32m   3796\u001b[0m     \u001b[0mnd\u001b[0m \u001b[0;34m=\u001b[0m \u001b[0ma\u001b[0m\u001b[0;34m.\u001b[0m\u001b[0mndim\u001b[0m\u001b[0;34m\u001b[0m\u001b[0;34m\u001b[0m\u001b[0m\n\u001b[1;32m   3797\u001b[0m     \u001b[0;32mif\u001b[0m \u001b[0maxis\u001b[0m \u001b[0;32mis\u001b[0m \u001b[0;32mnot\u001b[0m \u001b[0;32mNone\u001b[0m\u001b[0;34m:\u001b[0m\u001b[0;34m\u001b[0m\u001b[0;34m\u001b[0m\u001b[0m\n\u001b[0;32m-> 3798\u001b[0;31m         \u001b[0maxis\u001b[0m \u001b[0;34m=\u001b[0m \u001b[0m_nx\u001b[0m\u001b[0;34m.\u001b[0m\u001b[0mnormalize_axis_tuple\u001b[0m\u001b[0;34m(\u001b[0m\u001b[0maxis\u001b[0m\u001b[0;34m,\u001b[0m \u001b[0mnd\u001b[0m\u001b[0;34m)\u001b[0m\u001b[0;34m\u001b[0m\u001b[0;34m\u001b[0m\u001b[0m\n\u001b[0m\u001b[1;32m   3799\u001b[0m \u001b[0;34m\u001b[0m\u001b[0m\n\u001b[1;32m   3800\u001b[0m         \u001b[0;32mif\u001b[0m \u001b[0mkeepdims\u001b[0m\u001b[0;34m:\u001b[0m\u001b[0;34m\u001b[0m\u001b[0;34m\u001b[0m\u001b[0m\n",
            "\u001b[0;32m/usr/local/lib/python3.10/dist-packages/numpy/core/numeric.py\u001b[0m in \u001b[0;36mnormalize_axis_tuple\u001b[0;34m(axis, ndim, argname, allow_duplicate)\u001b[0m\n\u001b[1;32m   1378\u001b[0m             \u001b[0;32mpass\u001b[0m\u001b[0;34m\u001b[0m\u001b[0;34m\u001b[0m\u001b[0m\n\u001b[1;32m   1379\u001b[0m     \u001b[0;31m# Going via an iterator directly is slower than via list comprehension.\u001b[0m\u001b[0;34m\u001b[0m\u001b[0;34m\u001b[0m\u001b[0m\n\u001b[0;32m-> 1380\u001b[0;31m     \u001b[0maxis\u001b[0m \u001b[0;34m=\u001b[0m \u001b[0mtuple\u001b[0m\u001b[0;34m(\u001b[0m\u001b[0;34m[\u001b[0m\u001b[0mnormalize_axis_index\u001b[0m\u001b[0;34m(\u001b[0m\u001b[0max\u001b[0m\u001b[0;34m,\u001b[0m \u001b[0mndim\u001b[0m\u001b[0;34m,\u001b[0m \u001b[0margname\u001b[0m\u001b[0;34m)\u001b[0m \u001b[0;32mfor\u001b[0m \u001b[0max\u001b[0m \u001b[0;32min\u001b[0m \u001b[0maxis\u001b[0m\u001b[0;34m]\u001b[0m\u001b[0;34m)\u001b[0m\u001b[0;34m\u001b[0m\u001b[0;34m\u001b[0m\u001b[0m\n\u001b[0m\u001b[1;32m   1381\u001b[0m     \u001b[0;32mif\u001b[0m \u001b[0;32mnot\u001b[0m \u001b[0mallow_duplicate\u001b[0m \u001b[0;32mand\u001b[0m \u001b[0mlen\u001b[0m\u001b[0;34m(\u001b[0m\u001b[0mset\u001b[0m\u001b[0;34m(\u001b[0m\u001b[0maxis\u001b[0m\u001b[0;34m)\u001b[0m\u001b[0;34m)\u001b[0m \u001b[0;34m!=\u001b[0m \u001b[0mlen\u001b[0m\u001b[0;34m(\u001b[0m\u001b[0maxis\u001b[0m\u001b[0;34m)\u001b[0m\u001b[0;34m:\u001b[0m\u001b[0;34m\u001b[0m\u001b[0;34m\u001b[0m\u001b[0m\n\u001b[1;32m   1382\u001b[0m         \u001b[0;32mif\u001b[0m \u001b[0margname\u001b[0m\u001b[0;34m:\u001b[0m\u001b[0;34m\u001b[0m\u001b[0;34m\u001b[0m\u001b[0m\n",
            "\u001b[0;32m/usr/local/lib/python3.10/dist-packages/numpy/core/numeric.py\u001b[0m in \u001b[0;36m<listcomp>\u001b[0;34m(.0)\u001b[0m\n\u001b[1;32m   1378\u001b[0m             \u001b[0;32mpass\u001b[0m\u001b[0;34m\u001b[0m\u001b[0;34m\u001b[0m\u001b[0m\n\u001b[1;32m   1379\u001b[0m     \u001b[0;31m# Going via an iterator directly is slower than via list comprehension.\u001b[0m\u001b[0;34m\u001b[0m\u001b[0;34m\u001b[0m\u001b[0m\n\u001b[0;32m-> 1380\u001b[0;31m     \u001b[0maxis\u001b[0m \u001b[0;34m=\u001b[0m \u001b[0mtuple\u001b[0m\u001b[0;34m(\u001b[0m\u001b[0;34m[\u001b[0m\u001b[0mnormalize_axis_index\u001b[0m\u001b[0;34m(\u001b[0m\u001b[0max\u001b[0m\u001b[0;34m,\u001b[0m \u001b[0mndim\u001b[0m\u001b[0;34m,\u001b[0m \u001b[0margname\u001b[0m\u001b[0;34m)\u001b[0m \u001b[0;32mfor\u001b[0m \u001b[0max\u001b[0m \u001b[0;32min\u001b[0m \u001b[0maxis\u001b[0m\u001b[0;34m]\u001b[0m\u001b[0;34m)\u001b[0m\u001b[0;34m\u001b[0m\u001b[0;34m\u001b[0m\u001b[0m\n\u001b[0m\u001b[1;32m   1381\u001b[0m     \u001b[0;32mif\u001b[0m \u001b[0;32mnot\u001b[0m \u001b[0mallow_duplicate\u001b[0m \u001b[0;32mand\u001b[0m \u001b[0mlen\u001b[0m\u001b[0;34m(\u001b[0m\u001b[0mset\u001b[0m\u001b[0;34m(\u001b[0m\u001b[0maxis\u001b[0m\u001b[0;34m)\u001b[0m\u001b[0;34m)\u001b[0m \u001b[0;34m!=\u001b[0m \u001b[0mlen\u001b[0m\u001b[0;34m(\u001b[0m\u001b[0maxis\u001b[0m\u001b[0;34m)\u001b[0m\u001b[0;34m:\u001b[0m\u001b[0;34m\u001b[0m\u001b[0;34m\u001b[0m\u001b[0m\n\u001b[1;32m   1382\u001b[0m         \u001b[0;32mif\u001b[0m \u001b[0margname\u001b[0m\u001b[0;34m:\u001b[0m\u001b[0;34m\u001b[0m\u001b[0;34m\u001b[0m\u001b[0m\n",
            "\u001b[0;31mAxisError\u001b[0m: axis 1 is out of bounds for array of dimension 0"
          ]
        }
      ]
    },
    {
      "cell_type": "markdown",
      "metadata": {
        "id": "weDgPHpj_JGX"
      },
      "source": [
        "j) Join the two arrays on the vertical and horizontal axis and store the results on variables called `horizontal_join` and `vertical_join`"
      ]
    },
    {
      "cell_type": "code",
      "execution_count": 72,
      "metadata": {
        "id": "Ly2zm_Oa_JGY",
        "outputId": "c160a7cb-0c75-4222-c06b-8c089e29d9b2",
        "colab": {
          "base_uri": "https://localhost:8080/"
        }
      },
      "outputs": [
        {
          "output_type": "execute_result",
          "data": {
            "text/plain": [
              "array([[19.52412851, 18.28941212, 37.15903186, 37.37684043],\n",
              "       [17.95501172, 19.5539437 , 38.81804878, 39.05063606]])"
            ]
          },
          "metadata": {},
          "execution_count": 72
        }
      ],
      "source": [
        "horizontal_join=np.hstack((a,b))\n",
        "horizontal_join"
      ]
    },
    {
      "cell_type": "code",
      "execution_count": 73,
      "metadata": {
        "id": "FKhuuZJu_JGY",
        "outputId": "5441656e-c8a3-49d8-9117-3009f1fcdf30",
        "colab": {
          "base_uri": "https://localhost:8080/"
        }
      },
      "outputs": [
        {
          "output_type": "execute_result",
          "data": {
            "text/plain": [
              "array([[19.52412851, 18.28941212],\n",
              "       [17.95501172, 19.5539437 ],\n",
              "       [37.15903186, 37.37684043],\n",
              "       [38.81804878, 39.05063606]])"
            ]
          },
          "metadata": {},
          "execution_count": 73
        }
      ],
      "source": [
        "vertical_join=np.vstack((a,b))\n",
        "vertical_join"
      ]
    },
    {
      "cell_type": "markdown",
      "metadata": {
        "id": "wNMrHaq5_JGY"
      },
      "source": [
        "# Question 3"
      ]
    },
    {
      "cell_type": "code",
      "execution_count": 74,
      "metadata": {
        "id": "ZMWkvvbu_JGY"
      },
      "outputs": [],
      "source": [
        "a = np.random.random(size = (5,4))\n",
        "b = np.random.exponential(0.4,size=(4,6))\n",
        "c = a @ b"
      ]
    },
    {
      "cell_type": "markdown",
      "metadata": {
        "id": "uxETQruj_JGY"
      },
      "source": [
        "a) Run the code cell above and check the shape of the result `c`"
      ]
    },
    {
      "cell_type": "code",
      "execution_count": 75,
      "metadata": {
        "scrolled": true,
        "id": "9cOSVvze_JGZ",
        "outputId": "48f4a0b6-5489-46af-d9f6-4392d7edb5c6",
        "colab": {
          "base_uri": "https://localhost:8080/"
        }
      },
      "outputs": [
        {
          "output_type": "execute_result",
          "data": {
            "text/plain": [
              "(5, 6)"
            ]
          },
          "metadata": {},
          "execution_count": 75
        }
      ],
      "source": [
        "c.shape"
      ]
    },
    {
      "cell_type": "markdown",
      "metadata": {
        "id": "sNf3CYZr_JGZ"
      },
      "source": [
        "b) Find all the elements less than 0.5"
      ]
    },
    {
      "cell_type": "code",
      "execution_count": 111,
      "metadata": {
        "id": "eVt-w9EQ_JGZ",
        "outputId": "ae090260-cf14-4bb3-a65a-8055df3ccfbf",
        "colab": {
          "base_uri": "https://localhost:8080/"
        }
      },
      "outputs": [
        {
          "output_type": "execute_result",
          "data": {
            "text/plain": [
              "array([0.28919606, 0.23079715, 0.29373055, 0.14668048, 0.40645551,\n",
              "       0.37382828, 0.39891403, 0.46282878, 0.46712889, 0.32979093])"
            ]
          },
          "metadata": {},
          "execution_count": 111
        }
      ],
      "source": [
        "elements_less_than = c [c<0.5]\n",
        "elements_less_than"
      ]
    },
    {
      "cell_type": "markdown",
      "metadata": {
        "id": "Hpk1HwCA_JGZ"
      },
      "source": [
        "c) Convert array `c` to a one dimensional array and save the result on variable `d`"
      ]
    },
    {
      "cell_type": "code",
      "execution_count": 81,
      "metadata": {
        "id": "Du8h1z_T_JGa",
        "outputId": "ace19f21-9cc6-4b0e-fbdd-fca1d41d18ed",
        "colab": {
          "base_uri": "https://localhost:8080/"
        }
      },
      "outputs": [
        {
          "output_type": "execute_result",
          "data": {
            "text/plain": [
              "array([0.28919606, 0.23079715, 0.29373055, 0.14668048, 0.40645551,\n",
              "       0.37382828, 0.71519683, 0.61139844, 0.75295085, 0.39891403,\n",
              "       1.05116425, 1.00828756, 0.91999385, 0.64382593, 1.11049089,\n",
              "       0.56394734, 1.4482395 , 1.13402777, 0.67617483, 0.68124377,\n",
              "       0.80936298, 0.46282878, 1.038035  , 1.07740018, 0.50387585,\n",
              "       0.46712889, 0.68332557, 0.32979093, 0.6268232 , 0.56113642])"
            ]
          },
          "metadata": {},
          "execution_count": 81
        }
      ],
      "source": [
        "d=c.flatten()\n",
        "d"
      ]
    },
    {
      "cell_type": "code",
      "source": [],
      "metadata": {
        "id": "RSqsd15uVHAy"
      },
      "execution_count": null,
      "outputs": []
    },
    {
      "cell_type": "markdown",
      "metadata": {
        "id": "_Rkdr2TS_JGa"
      },
      "source": [
        "d) Find the index position with the maximum value in `d`"
      ]
    },
    {
      "cell_type": "code",
      "execution_count": 86,
      "metadata": {
        "id": "DNuAJzhj_JGa",
        "outputId": "5f7bb06c-5461-4f8e-8c93-6e88ae0106a6",
        "colab": {
          "base_uri": "https://localhost:8080/"
        }
      },
      "outputs": [
        {
          "output_type": "execute_result",
          "data": {
            "text/plain": [
              "array([1.4482395])"
            ]
          },
          "metadata": {},
          "execution_count": 86
        }
      ],
      "source": [
        "d[[16]]"
      ]
    },
    {
      "cell_type": "markdown",
      "metadata": {
        "id": "3U7i1R6J_JGb"
      },
      "source": [
        "# Question 4"
      ]
    },
    {
      "cell_type": "markdown",
      "metadata": {
        "id": "R1Bl4i-R_JGb"
      },
      "source": [
        "a) Create an array of 20 evenly spaced numbers between 17 and 35 and store the results on a variable named `e`"
      ]
    },
    {
      "cell_type": "code",
      "execution_count": 89,
      "metadata": {
        "id": "FVKCXfXd_JGd",
        "outputId": "9c0321fa-b5ef-414d-f1d2-41111b023ef4",
        "colab": {
          "base_uri": "https://localhost:8080/"
        }
      },
      "outputs": [
        {
          "output_type": "execute_result",
          "data": {
            "text/plain": [
              "array([17.        , 17.94736842, 18.89473684, 19.84210526, 20.78947368,\n",
              "       21.73684211, 22.68421053, 23.63157895, 24.57894737, 25.52631579,\n",
              "       26.47368421, 27.42105263, 28.36842105, 29.31578947, 30.26315789,\n",
              "       31.21052632, 32.15789474, 33.10526316, 34.05263158, 35.        ])"
            ]
          },
          "metadata": {},
          "execution_count": 89
        }
      ],
      "source": [
        "e=np.linspace(17,35,20)\n",
        "e\n"
      ]
    },
    {
      "cell_type": "markdown",
      "metadata": {
        "id": "UygTa7E7_JGe"
      },
      "source": [
        "b) Create an array consisting of a sequence of numbers between 17 and 35 with a step of 3 and store the results on a variable named `f`"
      ]
    },
    {
      "cell_type": "code",
      "execution_count": 90,
      "metadata": {
        "id": "H5qoOSM7_JGf",
        "outputId": "05786290-f024-4fb9-c8a9-57aa302a6226",
        "colab": {
          "base_uri": "https://localhost:8080/"
        }
      },
      "outputs": [
        {
          "output_type": "execute_result",
          "data": {
            "text/plain": [
              "array([17, 20, 23, 26, 29, 32])"
            ]
          },
          "metadata": {},
          "execution_count": 90
        }
      ],
      "source": [
        "f=np.arange(17,35,3)\n",
        "f"
      ]
    },
    {
      "cell_type": "markdown",
      "metadata": {
        "id": "6rOfebWr_JGg"
      },
      "source": [
        "c) Add a new dimension to `e`. The new dimension should be added as the last dimension of the array `e`. Save the results on a variable named `g`"
      ]
    },
    {
      "cell_type": "code",
      "execution_count": 92,
      "metadata": {
        "id": "r1-YVHwz_JGg",
        "outputId": "80ab62f0-2a41-4652-a4a3-6335b134e7eb",
        "colab": {
          "base_uri": "https://localhost:8080/"
        }
      },
      "outputs": [
        {
          "output_type": "execute_result",
          "data": {
            "text/plain": [
              "array([[17.        ],\n",
              "       [17.94736842],\n",
              "       [18.89473684],\n",
              "       [19.84210526],\n",
              "       [20.78947368],\n",
              "       [21.73684211],\n",
              "       [22.68421053],\n",
              "       [23.63157895],\n",
              "       [24.57894737],\n",
              "       [25.52631579],\n",
              "       [26.47368421],\n",
              "       [27.42105263],\n",
              "       [28.36842105],\n",
              "       [29.31578947],\n",
              "       [30.26315789],\n",
              "       [31.21052632],\n",
              "       [32.15789474],\n",
              "       [33.10526316],\n",
              "       [34.05263158],\n",
              "       [35.        ]])"
            ]
          },
          "metadata": {},
          "execution_count": 92
        }
      ],
      "source": [
        "g=e[:,np.newaxis]\n",
        "g"
      ]
    },
    {
      "cell_type": "markdown",
      "metadata": {
        "id": "uIxLI-bv_JGg"
      },
      "source": [
        "d) Add a new dimension to `f`. The dimension should be added as the first dimension to array `f`. Save the results to a variable named `h`"
      ]
    },
    {
      "cell_type": "code",
      "execution_count": 93,
      "metadata": {
        "id": "5XAS5MH1_JGg",
        "outputId": "00e63b64-805d-48ac-a4fe-cea2c4422615",
        "colab": {
          "base_uri": "https://localhost:8080/"
        }
      },
      "outputs": [
        {
          "output_type": "execute_result",
          "data": {
            "text/plain": [
              "array([17, 20, 23, 26, 29, 32])"
            ]
          },
          "metadata": {},
          "execution_count": 93
        }
      ],
      "source": [
        "f=np.arange(17,35,3)\n",
        "h=f[np.newaxis:,]\n",
        "h"
      ]
    },
    {
      "cell_type": "markdown",
      "metadata": {
        "id": "urCEdl-6_JGh"
      },
      "source": [
        "e) Remove all the axes of length one in `e` and `f`"
      ]
    },
    {
      "cell_type": "code",
      "execution_count": 94,
      "metadata": {
        "id": "EOakGAmV_JGh",
        "outputId": "93ead2e9-086d-4d44-cc28-7d6faf8bac61",
        "colab": {
          "base_uri": "https://localhost:8080/"
        }
      },
      "outputs": [
        {
          "output_type": "execute_result",
          "data": {
            "text/plain": [
              "array([17.        , 17.94736842, 18.89473684, 19.84210526, 20.78947368,\n",
              "       21.73684211, 22.68421053, 23.63157895, 24.57894737, 25.52631579,\n",
              "       26.47368421, 27.42105263, 28.36842105, 29.31578947, 30.26315789,\n",
              "       31.21052632, 32.15789474, 33.10526316, 34.05263158, 35.        ])"
            ]
          },
          "metadata": {},
          "execution_count": 94
        }
      ],
      "source": [
        "e=np.squeeze(e)\n",
        "e"
      ]
    },
    {
      "cell_type": "code",
      "execution_count": 112,
      "metadata": {
        "id": "wYMI8ra2_JGh",
        "outputId": "1230c5b4-5368-4c74-c3d7-dd498fc261a2",
        "colab": {
          "base_uri": "https://localhost:8080/"
        }
      },
      "outputs": [
        {
          "output_type": "execute_result",
          "data": {
            "text/plain": [
              "array([17, 20, 23, 26, 29, 32])"
            ]
          },
          "metadata": {},
          "execution_count": 112
        }
      ],
      "source": [
        "f=np.squeeze(f)\n",
        "f"
      ]
    }
  ],
  "metadata": {
    "colab": {
      "provenance": [],
      "include_colab_link": true
    },
    "kernelspec": {
      "display_name": "Python 3 (ipykernel)",
      "language": "python",
      "name": "python3"
    },
    "language_info": {
      "codemirror_mode": {
        "name": "ipython",
        "version": 3
      },
      "file_extension": ".py",
      "mimetype": "text/x-python",
      "name": "python",
      "nbconvert_exporter": "python",
      "pygments_lexer": "ipython3",
      "version": "3.9.7"
    }
  },
  "nbformat": 4,
  "nbformat_minor": 0
}